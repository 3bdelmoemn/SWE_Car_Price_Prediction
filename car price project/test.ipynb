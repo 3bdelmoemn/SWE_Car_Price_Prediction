{
 "cells": [
  {
   "cell_type": "markdown",
   "metadata": {},
   "source": [
    "# Test App:"
   ]
  },
  {
   "cell_type": "code",
   "execution_count": 4,
   "metadata": {},
   "outputs": [
    {
     "name": "stdout",
     "output_type": "stream",
     "text": [
      "1429025.2\n"
     ]
    },
    {
     "name": "stderr",
     "output_type": "stream",
     "text": [
      "c:\\Users\\3bdelmoemn\\AppData\\Local\\Programs\\Python\\Python312\\Lib\\site-packages\\sklearn\\preprocessing\\_encoders.py:242: UserWarning: Found unknown categories in columns [6] during transform. These unknown categories will be encoded as all zeros\n",
      "  warnings.warn(\n"
     ]
    }
   ],
   "source": [
    "import joblib\n",
    "import numpy as np\n",
    "import pandas as pd\n",
    "def test_model(data):\n",
    "    model=joblib.load(r'xgb_model.pkl')\n",
    "    transformer=joblib.load(r'data_transformer_preprocessing.pkl')\n",
    "    columns=['levy', 'brand', 'category', 'leather_interior', 'fuel_type',\n",
    "       'engine_volume', 'mileage', 'cylinders', 'type', 'drive_wheels',\n",
    "       'doors', 'wheel', 'color', 'airbags', 'car_age']\n",
    "    df_data=pd.DataFrame([data],columns=columns)\n",
    "    transformed_data=transformer.transform(df_data)\n",
    "    y_pred=model.predict(transformed_data)\n",
    "    final_result=(y_pred*(5.443288e+06-1.000000e+02))+1.000000e+02\n",
    "    return final_result[0]\n",
    "\n",
    "test_data=[831,'hyundai','sedan',\t'yes',\t'petrol',2.4,161600,\t4.0\t, 'automatic','front','4','left','black',8,13]\n",
    "print(test_model(test_data))\n",
    "# 1568100"
   ]
  },
  {
   "cell_type": "code",
   "execution_count": null,
   "metadata": {},
   "outputs": [],
   "source": []
  }
 ],
 "metadata": {
  "kernelspec": {
   "display_name": "Python 3",
   "language": "python",
   "name": "python3"
  },
  "language_info": {
   "codemirror_mode": {
    "name": "ipython",
    "version": 3
   },
   "file_extension": ".py",
   "mimetype": "text/x-python",
   "name": "python",
   "nbconvert_exporter": "python",
   "pygments_lexer": "ipython3",
   "version": "3.12.3"
  }
 },
 "nbformat": 4,
 "nbformat_minor": 2
}
